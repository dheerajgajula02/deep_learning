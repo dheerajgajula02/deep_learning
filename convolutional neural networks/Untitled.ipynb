{
 "cells": [
  {
   "cell_type": "markdown",
   "id": "e4915d98",
   "metadata": {},
   "source": [
    "#### CONVOLUTIONAL NEURAL NETWORKS"
   ]
  },
  {
   "cell_type": "code",
   "execution_count": 1,
   "id": "93829d52",
   "metadata": {},
   "outputs": [],
   "source": [
    "import tensorflow as tf\n",
    "from keras.preprocessing.image import ImageDataGenerator"
   ]
  },
  {
   "cell_type": "markdown",
   "id": "da8dfb46",
   "metadata": {},
   "source": [
    "***preprocessing training set***"
   ]
  },
  {
   "cell_type": "code",
   "execution_count": 4,
   "id": "d73dd2cb",
   "metadata": {},
   "outputs": [],
   "source": [
    "train_datagen= ImageDataGenerator(\n",
    "                rescale =1./255,\n",
    "                shear_range = 0.2,\n",
    "                zoom_range = 0.2,\n",
    "                horizontal_flip=True\n",
    ")"
   ]
  },
  {
   "cell_type": "code",
   "execution_count": 5,
   "id": "21309557",
   "metadata": {},
   "outputs": [
    {
     "name": "stdout",
     "output_type": "stream",
     "text": [
      "Found 8000 images belonging to 2 classes.\n"
     ]
    }
   ],
   "source": [
    "training_set =train_datagen.flow_from_directory( \"dataset/training_set\", target_size=(64,64), batch_size=32,\n",
    "                                               class_mode='binary')"
   ]
  },
  {
   "cell_type": "code",
   "execution_count": 6,
   "id": "2e350abb",
   "metadata": {},
   "outputs": [
    {
     "name": "stdout",
     "output_type": "stream",
     "text": [
      "Found 2000 images belonging to 2 classes.\n"
     ]
    }
   ],
   "source": [
    "test_datagen = ImageDataGenerator( rescale=1./255)\n",
    "test_set = train_datagen.flow_from_directory(\"dataset/test_set\", target_size=(64,64), batch_size=32,\n",
    "                                            class_mode='binary')"
   ]
  },
  {
   "cell_type": "code",
   "execution_count": 7,
   "id": "62d8b746",
   "metadata": {},
   "outputs": [],
   "source": [
    "cnn = tf.keras.models.Sequential()"
   ]
  },
  {
   "cell_type": "code",
   "execution_count": 9,
   "id": "4411e1c9",
   "metadata": {},
   "outputs": [],
   "source": [
    "cnn.add(tf.keras.layers.Conv2D(filters= 32, kernel_size=3, activation='relu',input_shape=[64,64,3] ))"
   ]
  },
  {
   "cell_type": "code",
   "execution_count": 10,
   "id": "d42f647d",
   "metadata": {},
   "outputs": [],
   "source": [
    "cnn.add(tf.keras.layers.MaxPool2D(pool_size=2, strides=2))"
   ]
  },
  {
   "cell_type": "code",
   "execution_count": 11,
   "id": "23ba812c",
   "metadata": {},
   "outputs": [],
   "source": [
    "cnn.add(tf.keras.layers.Conv2D(filters= 32, kernel_size=3, activation='relu'))\n",
    "cnn.add(tf.keras.layers.MaxPool2D(pool_size=2, strides=2))"
   ]
  },
  {
   "cell_type": "code",
   "execution_count": 12,
   "id": "37f83b5d",
   "metadata": {},
   "outputs": [],
   "source": [
    "cnn.add(tf.keras.layers.Flatten())"
   ]
  },
  {
   "cell_type": "code",
   "execution_count": 13,
   "id": "b2ffa969",
   "metadata": {},
   "outputs": [],
   "source": [
    "cnn.add(tf.keras.layers.Dense(units=128, activation='relu'))"
   ]
  },
  {
   "cell_type": "code",
   "execution_count": 14,
   "id": "567f7b33",
   "metadata": {},
   "outputs": [],
   "source": [
    "cnn.add(tf.keras.layers.Dense(units=1, activation='sigmoid'))"
   ]
  },
  {
   "cell_type": "markdown",
   "id": "f2b55693",
   "metadata": {},
   "source": [
    "BUILDING THE CNN"
   ]
  },
  {
   "cell_type": "code",
   "execution_count": 15,
   "id": "9968ac54",
   "metadata": {},
   "outputs": [],
   "source": [
    "cnn.compile(optimizer='adam', loss='binary_crossentropy', metrics=['accuracy'])"
   ]
  },
  {
   "cell_type": "code",
   "execution_count": 16,
   "id": "49f00963",
   "metadata": {},
   "outputs": [
    {
     "name": "stdout",
     "output_type": "stream",
     "text": [
      "Epoch 1/25\n",
      "250/250 [==============================] - 161s 639ms/step - loss: 0.6825 - accuracy: 0.5659 - val_loss: 0.6494 - val_accuracy: 0.6150\n",
      "Epoch 2/25\n",
      "250/250 [==============================] - 67s 266ms/step - loss: 0.6430 - accuracy: 0.6290 - val_loss: 0.6222 - val_accuracy: 0.6850\n",
      "Epoch 3/25\n",
      "250/250 [==============================] - 64s 256ms/step - loss: 0.6030 - accuracy: 0.6737 - val_loss: 0.6211 - val_accuracy: 0.6695\n",
      "Epoch 4/25\n",
      "250/250 [==============================] - 65s 260ms/step - loss: 0.5693 - accuracy: 0.7023 - val_loss: 0.5412 - val_accuracy: 0.7420\n",
      "Epoch 5/25\n",
      "250/250 [==============================] - 70s 282ms/step - loss: 0.5388 - accuracy: 0.7241 - val_loss: 0.5336 - val_accuracy: 0.7365\n",
      "Epoch 6/25\n",
      "250/250 [==============================] - 63s 252ms/step - loss: 0.5154 - accuracy: 0.7442 - val_loss: 0.5306 - val_accuracy: 0.7435\n",
      "Epoch 7/25\n",
      "250/250 [==============================] - 64s 257ms/step - loss: 0.4901 - accuracy: 0.7638 - val_loss: 0.5189 - val_accuracy: 0.7470\n",
      "Epoch 8/25\n",
      "250/250 [==============================] - 63s 252ms/step - loss: 0.4784 - accuracy: 0.7657 - val_loss: 0.4978 - val_accuracy: 0.7555\n",
      "Epoch 9/25\n",
      "250/250 [==============================] - 66s 262ms/step - loss: 0.4571 - accuracy: 0.7815 - val_loss: 0.5474 - val_accuracy: 0.7365\n",
      "Epoch 10/25\n",
      "250/250 [==============================] - 64s 257ms/step - loss: 0.4389 - accuracy: 0.7941 - val_loss: 0.4926 - val_accuracy: 0.7775\n",
      "Epoch 11/25\n",
      "250/250 [==============================] - 63s 253ms/step - loss: 0.4175 - accuracy: 0.8035 - val_loss: 0.5308 - val_accuracy: 0.7580\n",
      "Epoch 12/25\n",
      "250/250 [==============================] - 65s 259ms/step - loss: 0.4049 - accuracy: 0.8115 - val_loss: 0.5180 - val_accuracy: 0.7640\n",
      "Epoch 13/25\n",
      "250/250 [==============================] - 63s 251ms/step - loss: 0.3895 - accuracy: 0.8279 - val_loss: 0.6036 - val_accuracy: 0.7330\n",
      "Epoch 14/25\n",
      "250/250 [==============================] - 63s 252ms/step - loss: 0.3709 - accuracy: 0.8328 - val_loss: 0.5040 - val_accuracy: 0.7625\n",
      "Epoch 15/25\n",
      "250/250 [==============================] - 65s 262ms/step - loss: 0.3660 - accuracy: 0.8344 - val_loss: 0.5178 - val_accuracy: 0.7680\n",
      "Epoch 16/25\n",
      "250/250 [==============================] - 63s 252ms/step - loss: 0.3488 - accuracy: 0.8461 - val_loss: 0.5280 - val_accuracy: 0.7600\n",
      "Epoch 17/25\n",
      "250/250 [==============================] - 64s 255ms/step - loss: 0.3239 - accuracy: 0.8596 - val_loss: 0.5322 - val_accuracy: 0.7700\n",
      "Epoch 18/25\n",
      "250/250 [==============================] - 64s 255ms/step - loss: 0.3117 - accuracy: 0.8668 - val_loss: 0.5115 - val_accuracy: 0.7845\n",
      "Epoch 19/25\n",
      "250/250 [==============================] - 64s 257ms/step - loss: 0.2908 - accuracy: 0.8788 - val_loss: 0.5459 - val_accuracy: 0.7815\n",
      "Epoch 20/25\n",
      "250/250 [==============================] - 63s 250ms/step - loss: 0.2867 - accuracy: 0.8796 - val_loss: 0.5257 - val_accuracy: 0.7775\n",
      "Epoch 21/25\n",
      "250/250 [==============================] - 64s 254ms/step - loss: 0.2722 - accuracy: 0.8891 - val_loss: 0.5186 - val_accuracy: 0.7800\n",
      "Epoch 22/25\n",
      "250/250 [==============================] - 62s 250ms/step - loss: 0.2549 - accuracy: 0.8925 - val_loss: 0.5730 - val_accuracy: 0.7770\n",
      "Epoch 23/25\n",
      "250/250 [==============================] - 64s 254ms/step - loss: 0.2405 - accuracy: 0.9029 - val_loss: 0.5686 - val_accuracy: 0.7840\n",
      "Epoch 24/25\n",
      "250/250 [==============================] - 64s 257ms/step - loss: 0.2361 - accuracy: 0.9043 - val_loss: 0.5584 - val_accuracy: 0.7815\n",
      "Epoch 25/25\n",
      "250/250 [==============================] - 62s 250ms/step - loss: 0.2112 - accuracy: 0.9160 - val_loss: 0.5998 - val_accuracy: 0.7780\n"
     ]
    },
    {
     "data": {
      "text/plain": [
       "<keras.callbacks.History at 0x1fc2171ce50>"
      ]
     },
     "execution_count": 16,
     "metadata": {},
     "output_type": "execute_result"
    }
   ],
   "source": [
    "cnn.fit(x=training_set, validation_data=test_set, epochs=25)"
   ]
  },
  {
   "cell_type": "code",
   "execution_count": 17,
   "id": "def3bd96",
   "metadata": {},
   "outputs": [],
   "source": [
    "import numpy as np\n",
    "from keras.preprocessing import image"
   ]
  },
  {
   "cell_type": "code",
   "execution_count": 18,
   "id": "4c1017d9",
   "metadata": {},
   "outputs": [
    {
     "ename": "AttributeError",
     "evalue": "module 'keras.preprocessing.image' has no attribute 'load_img'",
     "output_type": "error",
     "traceback": [
      "\u001b[1;31m---------------------------------------------------------------------------\u001b[0m",
      "\u001b[1;31mAttributeError\u001b[0m                            Traceback (most recent call last)",
      "\u001b[1;32m~\\AppData\\Local\\Temp/ipykernel_15492/2607296350.py\u001b[0m in \u001b[0;36m<module>\u001b[1;34m\u001b[0m\n\u001b[1;32m----> 1\u001b[1;33m \u001b[0mtest_image\u001b[0m \u001b[1;33m=\u001b[0m \u001b[0mimage\u001b[0m\u001b[1;33m.\u001b[0m\u001b[0mload_img\u001b[0m\u001b[1;33m(\u001b[0m\u001b[1;34m'dataset/single_prediction/cat_or_dog_1.jpg'\u001b[0m\u001b[1;33m,\u001b[0m \u001b[0mtarget_size\u001b[0m\u001b[1;33m=\u001b[0m\u001b[1;33m(\u001b[0m\u001b[1;36m64\u001b[0m\u001b[1;33m,\u001b[0m\u001b[1;36m64\u001b[0m\u001b[1;33m)\u001b[0m\u001b[1;33m)\u001b[0m\u001b[1;33m\u001b[0m\u001b[1;33m\u001b[0m\u001b[0m\n\u001b[0m\u001b[0;32m      2\u001b[0m \u001b[0mtest_image\u001b[0m\u001b[1;33m=\u001b[0m\u001b[0mimage\u001b[0m\u001b[1;33m.\u001b[0m\u001b[0mimg_to_array\u001b[0m\u001b[1;33m(\u001b[0m\u001b[0mtest_image\u001b[0m\u001b[1;33m)\u001b[0m\u001b[1;33m\u001b[0m\u001b[1;33m\u001b[0m\u001b[0m\n\u001b[0;32m      3\u001b[0m \u001b[0mtest_image\u001b[0m\u001b[1;33m=\u001b[0m\u001b[0mnp\u001b[0m\u001b[1;33m.\u001b[0m\u001b[0mexpand_dims\u001b[0m\u001b[1;33m(\u001b[0m\u001b[0mtest_image\u001b[0m\u001b[1;33m,\u001b[0m \u001b[0maxis\u001b[0m\u001b[1;33m=\u001b[0m\u001b[1;36m0\u001b[0m\u001b[1;33m)\u001b[0m\u001b[1;33m\u001b[0m\u001b[1;33m\u001b[0m\u001b[0m\n\u001b[0;32m      4\u001b[0m \u001b[0mresult\u001b[0m \u001b[1;33m=\u001b[0m\u001b[0mcnn\u001b[0m\u001b[1;33m.\u001b[0m\u001b[0mpredict\u001b[0m\u001b[1;33m(\u001b[0m\u001b[0mtest_image\u001b[0m\u001b[1;33m)\u001b[0m\u001b[1;33m\u001b[0m\u001b[1;33m\u001b[0m\u001b[0m\n\u001b[0;32m      5\u001b[0m \u001b[0mtraining_set\u001b[0m\u001b[1;33m.\u001b[0m\u001b[0mclass_indices\u001b[0m\u001b[1;33m\u001b[0m\u001b[1;33m\u001b[0m\u001b[0m\n",
      "\u001b[1;31mAttributeError\u001b[0m: module 'keras.preprocessing.image' has no attribute 'load_img'"
     ]
    }
   ],
   "source": [
    "test_image = image.load_img('dataset/single_prediction/cat_or_dog_1.jpg', target_size=(64,64))\n",
    "test_image=image.img_to_array(test_image)\n",
    "test_image=np.expand_dims(test_image, axis=0)\n",
    "result =cnn.predict(test_image)\n",
    "training_set.class_indices\n",
    "if result[0][0]==1:\n",
    "    prediction ='dog'\n",
    "else:\n",
    "    prediction ='cat'\n",
    "    \n",
    "\n"
   ]
  },
  {
   "cell_type": "code",
   "execution_count": null,
   "id": "8251fee0",
   "metadata": {},
   "outputs": [],
   "source": []
  }
 ],
 "metadata": {
  "kernelspec": {
   "display_name": "Python 3 (ipykernel)",
   "language": "python",
   "name": "python3"
  },
  "language_info": {
   "codemirror_mode": {
    "name": "ipython",
    "version": 3
   },
   "file_extension": ".py",
   "mimetype": "text/x-python",
   "name": "python",
   "nbconvert_exporter": "python",
   "pygments_lexer": "ipython3",
   "version": "3.9.7"
  }
 },
 "nbformat": 4,
 "nbformat_minor": 5
}
